{
 "cells": [
  {
   "cell_type": "code",
   "execution_count": 1,
   "id": "f7f57720",
   "metadata": {},
   "outputs": [],
   "source": [
    "import warnings\n",
    "warnings.filterwarnings(\"ignore\")\n",
    "\n",
    "import os\n",
    "import matplotlib.pyplot as plt\n",
    "import numpy as np\n",
    "import pandas as pd\n",
    "\n",
    "import seaborn as sns\n",
    "\n",
    "\n",
    "# DBSCAN import\n",
    "from sklearn.cluster import DBSCAN\n",
    "\n",
    "# Scaler import\n",
    "from sklearn.preprocessing import MinMaxScaler\n",
    "\n",
    "import env\n",
    "import wrangle"
   ]
  },
  {
   "cell_type": "code",
   "execution_count": 2,
   "id": "498d33d9",
   "metadata": {},
   "outputs": [
    {
     "data": {
      "text/html": [
       "<div>\n",
       "<style scoped>\n",
       "    .dataframe tbody tr th:only-of-type {\n",
       "        vertical-align: middle;\n",
       "    }\n",
       "\n",
       "    .dataframe tbody tr th {\n",
       "        vertical-align: top;\n",
       "    }\n",
       "\n",
       "    .dataframe thead th {\n",
       "        text-align: right;\n",
       "    }\n",
       "</style>\n",
       "<table border=\"1\" class=\"dataframe\">\n",
       "  <thead>\n",
       "    <tr style=\"text-align: right;\">\n",
       "      <th></th>\n",
       "      <th>date</th>\n",
       "      <th>time</th>\n",
       "      <th>path</th>\n",
       "      <th>user_id</th>\n",
       "      <th>cohort_id</th>\n",
       "      <th>ip</th>\n",
       "      <th>id</th>\n",
       "      <th>name</th>\n",
       "      <th>slack</th>\n",
       "      <th>start_date</th>\n",
       "      <th>end_date</th>\n",
       "      <th>created_at</th>\n",
       "      <th>updated_at</th>\n",
       "      <th>deleted_at</th>\n",
       "      <th>program_id</th>\n",
       "    </tr>\n",
       "  </thead>\n",
       "  <tbody>\n",
       "    <tr>\n",
       "      <th>0</th>\n",
       "      <td>2018-01-26</td>\n",
       "      <td>09:55:03</td>\n",
       "      <td>/</td>\n",
       "      <td>1</td>\n",
       "      <td>8.0</td>\n",
       "      <td>97.105.19.61</td>\n",
       "      <td>8.0</td>\n",
       "      <td>Hampton</td>\n",
       "      <td>#hampton</td>\n",
       "      <td>2015-09-22</td>\n",
       "      <td>2016-02-06</td>\n",
       "      <td>2016-06-14 19:52:26</td>\n",
       "      <td>2016-06-14 19:52:26</td>\n",
       "      <td>None</td>\n",
       "      <td>1.0</td>\n",
       "    </tr>\n",
       "    <tr>\n",
       "      <th>1</th>\n",
       "      <td>2018-01-26</td>\n",
       "      <td>09:56:02</td>\n",
       "      <td>java-ii</td>\n",
       "      <td>1</td>\n",
       "      <td>8.0</td>\n",
       "      <td>97.105.19.61</td>\n",
       "      <td>8.0</td>\n",
       "      <td>Hampton</td>\n",
       "      <td>#hampton</td>\n",
       "      <td>2015-09-22</td>\n",
       "      <td>2016-02-06</td>\n",
       "      <td>2016-06-14 19:52:26</td>\n",
       "      <td>2016-06-14 19:52:26</td>\n",
       "      <td>None</td>\n",
       "      <td>1.0</td>\n",
       "    </tr>\n",
       "    <tr>\n",
       "      <th>2</th>\n",
       "      <td>2018-01-26</td>\n",
       "      <td>09:56:05</td>\n",
       "      <td>java-ii/object-oriented-programming</td>\n",
       "      <td>1</td>\n",
       "      <td>8.0</td>\n",
       "      <td>97.105.19.61</td>\n",
       "      <td>8.0</td>\n",
       "      <td>Hampton</td>\n",
       "      <td>#hampton</td>\n",
       "      <td>2015-09-22</td>\n",
       "      <td>2016-02-06</td>\n",
       "      <td>2016-06-14 19:52:26</td>\n",
       "      <td>2016-06-14 19:52:26</td>\n",
       "      <td>None</td>\n",
       "      <td>1.0</td>\n",
       "    </tr>\n",
       "    <tr>\n",
       "      <th>3</th>\n",
       "      <td>2018-01-26</td>\n",
       "      <td>09:56:06</td>\n",
       "      <td>slides/object_oriented_programming</td>\n",
       "      <td>1</td>\n",
       "      <td>8.0</td>\n",
       "      <td>97.105.19.61</td>\n",
       "      <td>8.0</td>\n",
       "      <td>Hampton</td>\n",
       "      <td>#hampton</td>\n",
       "      <td>2015-09-22</td>\n",
       "      <td>2016-02-06</td>\n",
       "      <td>2016-06-14 19:52:26</td>\n",
       "      <td>2016-06-14 19:52:26</td>\n",
       "      <td>None</td>\n",
       "      <td>1.0</td>\n",
       "    </tr>\n",
       "    <tr>\n",
       "      <th>4</th>\n",
       "      <td>2018-01-26</td>\n",
       "      <td>09:56:24</td>\n",
       "      <td>javascript-i/conditionals</td>\n",
       "      <td>2</td>\n",
       "      <td>22.0</td>\n",
       "      <td>97.105.19.61</td>\n",
       "      <td>22.0</td>\n",
       "      <td>Teddy</td>\n",
       "      <td>#teddy</td>\n",
       "      <td>2018-01-08</td>\n",
       "      <td>2018-05-17</td>\n",
       "      <td>2018-01-08 13:59:10</td>\n",
       "      <td>2018-01-08 13:59:10</td>\n",
       "      <td>None</td>\n",
       "      <td>2.0</td>\n",
       "    </tr>\n",
       "  </tbody>\n",
       "</table>\n",
       "</div>"
      ],
      "text/plain": [
       "         date      time                                 path  user_id  \\\n",
       "0  2018-01-26  09:55:03                                    /        1   \n",
       "1  2018-01-26  09:56:02                              java-ii        1   \n",
       "2  2018-01-26  09:56:05  java-ii/object-oriented-programming        1   \n",
       "3  2018-01-26  09:56:06   slides/object_oriented_programming        1   \n",
       "4  2018-01-26  09:56:24            javascript-i/conditionals        2   \n",
       "\n",
       "   cohort_id            ip    id     name     slack  start_date    end_date  \\\n",
       "0        8.0  97.105.19.61   8.0  Hampton  #hampton  2015-09-22  2016-02-06   \n",
       "1        8.0  97.105.19.61   8.0  Hampton  #hampton  2015-09-22  2016-02-06   \n",
       "2        8.0  97.105.19.61   8.0  Hampton  #hampton  2015-09-22  2016-02-06   \n",
       "3        8.0  97.105.19.61   8.0  Hampton  #hampton  2015-09-22  2016-02-06   \n",
       "4       22.0  97.105.19.61  22.0    Teddy    #teddy  2018-01-08  2018-05-17   \n",
       "\n",
       "            created_at           updated_at deleted_at  program_id  \n",
       "0  2016-06-14 19:52:26  2016-06-14 19:52:26       None         1.0  \n",
       "1  2016-06-14 19:52:26  2016-06-14 19:52:26       None         1.0  \n",
       "2  2016-06-14 19:52:26  2016-06-14 19:52:26       None         1.0  \n",
       "3  2016-06-14 19:52:26  2016-06-14 19:52:26       None         1.0  \n",
       "4  2018-01-08 13:59:10  2018-01-08 13:59:10       None         2.0  "
      ]
     },
     "execution_count": 2,
     "metadata": {},
     "output_type": "execute_result"
    }
   ],
   "source": [
    "df = wrangle.get_curriculum_logs()\n",
    "df.head()"
   ]
  },
  {
   "cell_type": "code",
   "execution_count": 3,
   "id": "194eda0f",
   "metadata": {},
   "outputs": [
    {
     "ename": "AttributeError",
     "evalue": "'DataFrame' object has no attribute 'date'",
     "output_type": "error",
     "traceback": [
      "\u001b[0;31m---------------------------------------------------------------------------\u001b[0m",
      "\u001b[0;31mAttributeError\u001b[0m                            Traceback (most recent call last)",
      "\u001b[0;32m<ipython-input-3-7de37fd98ca1>\u001b[0m in \u001b[0;36m<module>\u001b[0;34m\u001b[0m\n\u001b[0;32m----> 1\u001b[0;31m \u001b[0mdf\u001b[0m \u001b[0;34m=\u001b[0m \u001b[0mwrangle\u001b[0m\u001b[0;34m.\u001b[0m\u001b[0mprep_curriculum_data\u001b[0m\u001b[0;34m(\u001b[0m\u001b[0;34m)\u001b[0m\u001b[0;34m\u001b[0m\u001b[0;34m\u001b[0m\u001b[0m\n\u001b[0m\u001b[1;32m      2\u001b[0m \u001b[0mdf\u001b[0m\u001b[0;34m.\u001b[0m\u001b[0mhead\u001b[0m\u001b[0;34m(\u001b[0m\u001b[0;34m)\u001b[0m\u001b[0;34m\u001b[0m\u001b[0;34m\u001b[0m\u001b[0m\n",
      "\u001b[0;32m~/codeup-data-science/anomoly-detection-project/wrangle.py\u001b[0m in \u001b[0;36mprep_curriculum_data\u001b[0;34m()\u001b[0m\n\u001b[1;32m     47\u001b[0m \u001b[0;34m\u001b[0m\u001b[0m\n\u001b[1;32m     48\u001b[0m     \u001b[0;31m# convert date to a pandas datetime format and set as index\u001b[0m\u001b[0;34m\u001b[0m\u001b[0;34m\u001b[0m\u001b[0;34m\u001b[0m\u001b[0m\n\u001b[0;32m---> 49\u001b[0;31m         \u001b[0mdf\u001b[0m\u001b[0;34m.\u001b[0m\u001b[0mdate\u001b[0m \u001b[0;34m=\u001b[0m \u001b[0mpd\u001b[0m\u001b[0;34m.\u001b[0m\u001b[0mto_datetime\u001b[0m\u001b[0;34m(\u001b[0m\u001b[0mdf\u001b[0m\u001b[0;34m.\u001b[0m\u001b[0mdate\u001b[0m\u001b[0;34m)\u001b[0m\u001b[0;34m\u001b[0m\u001b[0;34m\u001b[0m\u001b[0m\n\u001b[0m\u001b[1;32m     50\u001b[0m         \u001b[0mdf\u001b[0m \u001b[0;34m=\u001b[0m \u001b[0mdf\u001b[0m\u001b[0;34m.\u001b[0m\u001b[0mset_index\u001b[0m\u001b[0;34m(\u001b[0m\u001b[0mdf\u001b[0m\u001b[0;34m.\u001b[0m\u001b[0mdate\u001b[0m\u001b[0;34m)\u001b[0m\u001b[0;34m\u001b[0m\u001b[0;34m\u001b[0m\u001b[0m\n\u001b[1;32m     51\u001b[0m \u001b[0;34m\u001b[0m\u001b[0m\n",
      "\u001b[0;32m/opt/homebrew/anaconda3/lib/python3.8/site-packages/pandas/core/generic.py\u001b[0m in \u001b[0;36m__getattr__\u001b[0;34m(self, name)\u001b[0m\n\u001b[1;32m   5463\u001b[0m             \u001b[0;32mif\u001b[0m \u001b[0mself\u001b[0m\u001b[0;34m.\u001b[0m\u001b[0m_info_axis\u001b[0m\u001b[0;34m.\u001b[0m\u001b[0m_can_hold_identifiers_and_holds_name\u001b[0m\u001b[0;34m(\u001b[0m\u001b[0mname\u001b[0m\u001b[0;34m)\u001b[0m\u001b[0;34m:\u001b[0m\u001b[0;34m\u001b[0m\u001b[0;34m\u001b[0m\u001b[0m\n\u001b[1;32m   5464\u001b[0m                 \u001b[0;32mreturn\u001b[0m \u001b[0mself\u001b[0m\u001b[0;34m[\u001b[0m\u001b[0mname\u001b[0m\u001b[0;34m]\u001b[0m\u001b[0;34m\u001b[0m\u001b[0;34m\u001b[0m\u001b[0m\n\u001b[0;32m-> 5465\u001b[0;31m             \u001b[0;32mreturn\u001b[0m \u001b[0mobject\u001b[0m\u001b[0;34m.\u001b[0m\u001b[0m__getattribute__\u001b[0m\u001b[0;34m(\u001b[0m\u001b[0mself\u001b[0m\u001b[0;34m,\u001b[0m \u001b[0mname\u001b[0m\u001b[0;34m)\u001b[0m\u001b[0;34m\u001b[0m\u001b[0;34m\u001b[0m\u001b[0m\n\u001b[0m\u001b[1;32m   5466\u001b[0m \u001b[0;34m\u001b[0m\u001b[0m\n\u001b[1;32m   5467\u001b[0m     \u001b[0;32mdef\u001b[0m \u001b[0m__setattr__\u001b[0m\u001b[0;34m(\u001b[0m\u001b[0mself\u001b[0m\u001b[0;34m,\u001b[0m \u001b[0mname\u001b[0m\u001b[0;34m:\u001b[0m \u001b[0mstr\u001b[0m\u001b[0;34m,\u001b[0m \u001b[0mvalue\u001b[0m\u001b[0;34m)\u001b[0m \u001b[0;34m->\u001b[0m \u001b[0;32mNone\u001b[0m\u001b[0;34m:\u001b[0m\u001b[0;34m\u001b[0m\u001b[0;34m\u001b[0m\u001b[0m\n",
      "\u001b[0;31mAttributeError\u001b[0m: 'DataFrame' object has no attribute 'date'"
     ]
    }
   ],
   "source": [
    "df = wrangle.prep_curriculum_data()\n",
    "df.head()"
   ]
  },
  {
   "cell_type": "markdown",
   "id": "52a577f4",
   "metadata": {},
   "source": [
    "# Explore"
   ]
  },
  {
   "cell_type": "markdown",
   "id": "8c0412e8",
   "metadata": {},
   "source": [
    "### Question 1: Which lesson appears to attract the most traffic consistently across cohorts (per program)?"
   ]
  },
  {
   "cell_type": "code",
   "execution_count": null,
   "id": "e25fbe98",
   "metadata": {},
   "outputs": [],
   "source": [
    "# curriculum access value counts per program\n",
    "\n",
    "df.program.value_counts()\n"
   ]
  },
  {
   "cell_type": "code",
   "execution_count": null,
   "id": "bb49db5a",
   "metadata": {},
   "outputs": [],
   "source": [
    "# top 5 overall pages\n",
    "print('10 Most Popular Pages in Web Dev Program & DS')\n",
    "\n",
    "df.groupby(['program'])['endpoint'].value_counts().head(10)"
   ]
  },
  {
   "cell_type": "code",
   "execution_count": null,
   "id": "f1f19134",
   "metadata": {},
   "outputs": [],
   "source": [
    "# remove pages that are not part of curriculum pages\n",
    "\n",
    "df = df[df.endpoint.str.contains('jpeg') != True]\n",
    "\n",
    "df = df[df.endpoint.str.contains('json') != True]\n",
    "\n",
    "df = df[df.endpoint.str.contains('jpg') != True]\n",
    "\n",
    "df = df[df.endpoint.str.contains('appendix') != True]\n",
    "\n",
    "df = df[df.endpoint.str.contains('Appendix') != True]\n",
    "\n",
    "df = df[df.endpoint != '/']\n",
    "\n",
    "df = df[df.endpoint != 'toc']"
   ]
  },
  {
   "cell_type": "code",
   "execution_count": null,
   "id": "1c3056ab",
   "metadata": {},
   "outputs": [],
   "source": [
    "# page views per cohort with count\n",
    "page_views = df.groupby(['cohort_name'])['endpoint'].agg(['count', 'unique'])\n",
    "page_views"
   ]
  },
  {
   "cell_type": "code",
   "execution_count": null,
   "id": "fc17f751",
   "metadata": {},
   "outputs": [],
   "source": []
  },
  {
   "cell_type": "code",
   "execution_count": null,
   "id": "2b62baa7",
   "metadata": {},
   "outputs": [],
   "source": [
    "# create ds dataframe\n",
    "DS_df = df[(df.program == 'Data Science')]\n",
    "DS_df.head(5)"
   ]
  },
  {
   "cell_type": "code",
   "execution_count": null,
   "id": "8e6726df",
   "metadata": {},
   "outputs": [],
   "source": [
    "# top 5 overall pages\n",
    "print('5 Most Popular Pages in Data Science Program')\n",
    "\n",
    "DS_df.endpoint.value_counts().head(5)"
   ]
  },
  {
   "cell_type": "code",
   "execution_count": null,
   "id": "33a5a85b",
   "metadata": {},
   "outputs": [],
   "source": [
    "# create Web dev df\n",
    "Wb_df = df[(df.program == 'Web Development')]\n",
    "Wb_df.head(5)"
   ]
  },
  {
   "cell_type": "code",
   "execution_count": null,
   "id": "fba6fe44",
   "metadata": {},
   "outputs": [],
   "source": [
    "# plot data for top visited page \n",
    "plt.figure(figsize=(10,7))\n",
    "Wb_df[Wb_df.endpoint == 'classification/overview'].endpoint.resample('Q').count().plot()\n",
    "plt.title('Page visits of classification/overview')\n",
    "plt.xlabel('Quarter')\n",
    "plt.ylabel('Page Visits')"
   ]
  },
  {
   "cell_type": "code",
   "execution_count": null,
   "id": "db8b9578",
   "metadata": {},
   "outputs": [],
   "source": [
    "# plot data for lowest of top 5 visited page\n",
    "plt.figure(figsize=(10,7))\n",
    "Wb_df[Wb_df.endpoint == 'fundamentals/intro-to-data-science'].endpoint.resample('Q').count().plot()\n",
    "plt.title('Page visits of fundamentals/intro-to-data-science')\n",
    "plt.xlabel('Quarter')\n",
    "plt.ylabel('Page Visits')"
   ]
  },
  {
   "cell_type": "code",
   "execution_count": null,
   "id": "3010f9ab",
   "metadata": {},
   "outputs": [],
   "source": [
    "# top 5 overall pages\n",
    "print('5 Most Popular Pages in Web Development Program')\n",
    "\n",
    "Wb_df.endpoint.value_counts().head(5)"
   ]
  },
  {
   "cell_type": "code",
   "execution_count": null,
   "id": "0da4209c",
   "metadata": {},
   "outputs": [],
   "source": [
    "# plot data for top visited page \n",
    "\n",
    "plt.figure(figsize=(10,7))\n",
    "Wb_df[Wb_df.endpoint == 'javascript-i'].endpoint.resample('Q').count().plot()\n",
    "plt.title('Page visits of javascript-i')\n",
    "plt.xlabel('Quarter')\n",
    "plt.ylabel('Page Visits')"
   ]
  },
  {
   "cell_type": "code",
   "execution_count": null,
   "id": "45c4c164",
   "metadata": {},
   "outputs": [],
   "source": [
    "# plot data for lowest of top 5 visited page\n",
    "\n",
    "plt.figure(figsize=(10,7))\n",
    "Wb_df[Wb_df.endpoint == 'spring'].endpoint.resample('Q').count().plot()\n",
    "plt.title('Page visits of Spring')\n",
    "plt.xlabel('Quarter')\n",
    "plt.ylabel('Page Visits')"
   ]
  },
  {
   "cell_type": "markdown",
   "id": "6dea3c7f",
   "metadata": {},
   "source": [
    "### Takeaways\n",
    "- For Data Science Program these are the top 5 pages with the most traffic:\n",
    "    - classification/overview                    | count: 1785\n",
    "    - 1-fundamentals/1.1-intro-to-data-science   | count: 1633\n",
    "    - classification/scale_features_or_not.svg   | count: 1590\n",
    "    - sql/mysql-overview                         | count: 1424\n",
    "    - fundamentals/intro-to-data-science         | count: 1413\n",
    "    \n",
    "- For Web Development these are the top 5 pages with the most traffic:\n",
    "    - javascript-i    | count: 18193\n",
    "    - java-iii        | count: 13162\n",
    "    - html-css        | count: 13111\n",
    "    - java-ii         | count: 12173\n",
    "    - spring          | count: 11877"
   ]
  },
  {
   "cell_type": "code",
   "execution_count": null,
   "id": "87464949",
   "metadata": {},
   "outputs": [],
   "source": []
  },
  {
   "cell_type": "code",
   "execution_count": null,
   "id": "7226ed28",
   "metadata": {},
   "outputs": [],
   "source": []
  },
  {
   "cell_type": "code",
   "execution_count": null,
   "id": "c053760e",
   "metadata": {},
   "outputs": [],
   "source": [
    "subset = df[(df.endpoint != '/') & (df.cohort_name != 'Staff') & (df.program != 'none')]\n"
   ]
  },
  {
   "cell_type": "code",
   "execution_count": null,
   "id": "e21c9cb6",
   "metadata": {},
   "outputs": [],
   "source": [
    "subset[['base', 'endpoint']] = subset.endpoint.str.split(pat='/', n=1, expand=True)\n"
   ]
  },
  {
   "cell_type": "code",
   "execution_count": null,
   "id": "6fdac4e4",
   "metadata": {},
   "outputs": [],
   "source": [
    "subset.base = subset.base.str.lstrip('0123456789.- ')\n",
    "subset.head()"
   ]
  },
  {
   "cell_type": "code",
   "execution_count": null,
   "id": "d0654ea8",
   "metadata": {},
   "outputs": [],
   "source": [
    "ds_curr = subset[subset.program =='Web Development'].base.value_counts().sort_values(ascending=False).to_frame()\n",
    "ds_curr.head(10)"
   ]
  },
  {
   "cell_type": "code",
   "execution_count": null,
   "id": "90a3a852",
   "metadata": {},
   "outputs": [],
   "source": [
    "ds_curr = subset[subset.program =='Data Science'].base.value_counts().sort_values(ascending=False).to_frame()\n",
    "ds_curr.head(10)"
   ]
  },
  {
   "cell_type": "markdown",
   "id": "52549ddc",
   "metadata": {},
   "source": [
    "### 2. Is there a cohort that referred to a lesson significantly more than other cohorts seemed to gloss over?"
   ]
  },
  {
   "cell_type": "code",
   "execution_count": null,
   "id": "fde55bdb",
   "metadata": {},
   "outputs": [],
   "source": []
  },
  {
   "cell_type": "code",
   "execution_count": null,
   "id": "27cb6556",
   "metadata": {},
   "outputs": [],
   "source": [
    "pd.DataFrame(DS_df.endpoint.value_counts().head(5)).index\n"
   ]
  },
  {
   "cell_type": "code",
   "execution_count": null,
   "id": "d9a20c59",
   "metadata": {},
   "outputs": [],
   "source": [
    "DS_views = DS_df[(DS_df.endpoint == 'classification/overview') | (DS_df.endpoint == '1-fundamentals/1.1-intro-to-data-science') | (DS_df.endpoint == 'classification/scale_features_or_not.svg') | (DS_df.endpoint == 'sql/mysql-overview') | (DS_df.endpoint == 'fundamentals/intro-to-data-science')]\n"
   ]
  },
  {
   "cell_type": "code",
   "execution_count": null,
   "id": "5c2d3a4d",
   "metadata": {},
   "outputs": [],
   "source": [
    "DS_views = pd.crosstab(DS_views.cohort_id, DS_views.endpoint)\n"
   ]
  },
  {
   "cell_type": "code",
   "execution_count": null,
   "id": "4e66d49d",
   "metadata": {},
   "outputs": [],
   "source": [
    "DS_views.columns = ['Classification/Overview','Fundamentals','Classification/Scaling','SQL Overview','Fundamentals/Intro to DS']\n"
   ]
  },
  {
   "cell_type": "code",
   "execution_count": null,
   "id": "2f9cecb0",
   "metadata": {},
   "outputs": [],
   "source": [
    "x = 1\n",
    "plt.figure(figsize=(13,8))\n",
    "for col in DS_views.columns:\n",
    "    plt.subplot(2,3,x)\n",
    "    x = x + 1\n",
    "    sns.barplot(x=DS_views.index, y=DS_views[col])\n",
    "    plt.title(col, fontsize=18)\n",
    "    plt.xlabel(\"Cohort ID\")\n",
    "    plt.ylabel(\"Page Views\")\n",
    "    \n",
    "plt.tight_layout()\n"
   ]
  },
  {
   "cell_type": "code",
   "execution_count": null,
   "id": "4a971a40",
   "metadata": {},
   "outputs": [],
   "source": []
  },
  {
   "cell_type": "code",
   "execution_count": null,
   "id": "7bfab62e",
   "metadata": {},
   "outputs": [],
   "source": []
  },
  {
   "cell_type": "code",
   "execution_count": null,
   "id": "b7616ce0",
   "metadata": {},
   "outputs": [],
   "source": []
  },
  {
   "cell_type": "code",
   "execution_count": null,
   "id": "95779a71",
   "metadata": {},
   "outputs": [],
   "source": [
    "# least referred to lessons across all cohorts for Web Development program\n",
    "\n",
    "ds_curr = subset[subset.program =='Web Development'].base.value_counts().sort_values(ascending=True).to_frame()\n",
    "ds_curr.head(60)"
   ]
  },
  {
   "cell_type": "code",
   "execution_count": null,
   "id": "fe0fe4c5",
   "metadata": {},
   "outputs": [],
   "source": [
    "# least referred to lessons across all cohorts for Data Science program\n",
    "\n",
    "ds_curr = subset[subset.program =='Data Science'].base.value_counts().sort_values(ascending=True).to_frame()\n",
    "ds_curr.head(60)"
   ]
  },
  {
   "cell_type": "code",
   "execution_count": null,
   "id": "697285d2",
   "metadata": {},
   "outputs": [],
   "source": [
    "# cohort Andromeda\n",
    "ds_curr = subset[subset.cohort_name =='Andromeda'].base.value_counts().sort_values(ascending=True).to_frame()\n",
    "ds_curr.head(60)"
   ]
  },
  {
   "cell_type": "code",
   "execution_count": null,
   "id": "0fcfc50b",
   "metadata": {},
   "outputs": [],
   "source": [
    "# Cohort Apex\n",
    "ds_curr = subset[subset.cohort_name =='Apex'].base.value_counts().sort_values(ascending=True).to_frame()\n",
    "ds_curr.head(60)"
   ]
  },
  {
   "cell_type": "markdown",
   "id": "af59720a",
   "metadata": {},
   "source": [
    "### 3. Are there students who, when active, hardly access the curriculum? If so, what information do you have about these students?"
   ]
  },
  {
   "cell_type": "code",
   "execution_count": null,
   "id": "d93a9e24",
   "metadata": {},
   "outputs": [],
   "source": [
    "df.user_id.nunique()\n"
   ]
  },
  {
   "cell_type": "code",
   "execution_count": null,
   "id": "67f2e929",
   "metadata": {},
   "outputs": [],
   "source": [
    "df.user_id.value_counts()"
   ]
  },
  {
   "cell_type": "code",
   "execution_count": null,
   "id": "cf3d2835",
   "metadata": {},
   "outputs": [],
   "source": [
    "page_views = df.groupby(['user_id'])['endpoint'].agg(['count', 'unique'])\n",
    "page_views"
   ]
  },
  {
   "cell_type": "code",
   "execution_count": null,
   "id": "2fee2176",
   "metadata": {},
   "outputs": [],
   "source": []
  },
  {
   "cell_type": "code",
   "execution_count": null,
   "id": "f3facd3a",
   "metadata": {},
   "outputs": [],
   "source": []
  }
 ],
 "metadata": {
  "kernelspec": {
   "display_name": "Python 3",
   "language": "python",
   "name": "python3"
  },
  "language_info": {
   "codemirror_mode": {
    "name": "ipython",
    "version": 3
   },
   "file_extension": ".py",
   "mimetype": "text/x-python",
   "name": "python",
   "nbconvert_exporter": "python",
   "pygments_lexer": "ipython3",
   "version": "3.8.8"
  }
 },
 "nbformat": 4,
 "nbformat_minor": 5
}
